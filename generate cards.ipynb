{
 "cells": [
  {
   "cell_type": "code",
   "execution_count": 1,
   "metadata": {
    "ExecuteTime": {
     "end_time": "2020-10-04T05:46:35.419046Z",
     "start_time": "2020-10-04T05:46:35.307328Z"
    }
   },
   "outputs": [],
   "source": [
    "import ads\n",
    "from glob import glob\n",
    "#import ads.sandbox as ads\n",
    "#ads.config.token = 'secret token'\n",
    "myORCID = '0000-0003-3345-9515'\n",
    "things_wanted = ['abstract',\n",
    "                'author',\n",
    "                  'citation_count ',\n",
    "                  'first_author',\n",
    "                  'pubdate',\n",
    "                  'title',\n",
    "                  'volume',\n",
    "                  'year',\n",
    "                  'page',\n",
    "                  'doi',\n",
    "                 'journal',\n",
    "                 'id'\n",
    "                 \n",
    "                \n",
    "                ]\n",
    "\n",
    "dois = []\n",
    "citation_count = []\n",
    "abstracts = []\n",
    "pub_dates = []\n",
    "ids = []\n",
    "\n",
    "breaklines =  '---\\n'"
   ]
  },
  {
   "cell_type": "code",
   "execution_count": 2,
   "metadata": {
    "ExecuteTime": {
     "end_time": "2020-10-04T05:46:36.524928Z",
     "start_time": "2020-10-04T05:46:36.506552Z"
    }
   },
   "outputs": [],
   "source": [
    "files = glob('science/*.md')\n",
    "for md in files:\n",
    "    \n",
    "    with open(md,'r') as f:\n",
    "        ll = f.readlines()\n",
    "        \n",
    "    info =ll[1:]\n",
    "    \n",
    "    jj= 0\n",
    "    for x in info:\n",
    "        if x == breaklines:\n",
    "            break\n",
    "        jj+=1\n",
    "    info = info[:jj]\n",
    "    \n",
    "    \n",
    "    for ele in info:\n",
    "    \n",
    "        x = ele.strip()\n",
    "        tag, data = x.split(':')\n",
    "\n",
    "        if tag == 'ref-doi':\n",
    "\n",
    "            dois.append(data)\n",
    "\n",
    "    \n",
    "    \n",
    "    \n",
    "        \n",
    "        \n",
    "\n"
   ]
  },
  {
   "cell_type": "code",
   "execution_count": 3,
   "metadata": {
    "ExecuteTime": {
     "end_time": "2020-10-04T05:47:06.055620Z",
     "start_time": "2020-10-04T05:46:37.546328Z"
    }
   },
   "outputs": [],
   "source": [
    "for doi in dois:\n",
    "\n",
    "    search = list(ads.SearchQuery(doi=doi, fl=things_wanted))\n",
    "    \n",
    "    citation_count.append(search[0].citation_count)\n",
    "    abstracts.append(search[0].abstract)\n",
    "    pub_dates.append(search[0].pubdate)\n",
    "    ids.append(search[0].id)\n",
    "    \n",
    "    \n",
    "    "
   ]
  },
  {
   "cell_type": "code",
   "execution_count": 4,
   "metadata": {
    "ExecuteTime": {
     "end_time": "2020-10-04T05:47:06.099109Z",
     "start_time": "2020-10-04T05:47:06.057357Z"
    }
   },
   "outputs": [
    {
     "name": "stdout",
     "output_type": "stream",
     "text": [
      " 2014-01-03\n",
      "2014-01-01\n",
      " 2011-10-10\n",
      "2011-10-01\n",
      " 2015-02-20\n",
      "2015-02-01\n",
      " 2013-02-01\n",
      "2013-02-01\n",
      " 2016-04-01\n",
      "2016-04-01\n",
      " 2012-08-01\n",
      "2012-08-01\n",
      " 2011-02-01\n",
      "2011-02-01\n",
      " 2011-03-24\n",
      "2011-07-01\n",
      " 2020-01-27\n",
      "2020-02-01\n",
      " 2013-11-01\n",
      "2013-11-01\n",
      " 2019-04-18\n",
      "2019-03-01\n",
      " 2014-01-03\n",
      "2014-01-01\n",
      " 2009-11-20\n",
      "2009-11-01\n",
      " 2019-04-18\n",
      "2019-07-01\n",
      " 2010-03-20\n",
      "2010-03-01\n",
      " 2013-06-10\n",
      "2013-06-01\n",
      " 2013-02-04\n",
      "2013-02-01\n",
      " 2014-04-01\n",
      "2014-04-01\n",
      " 2016-03-20\n",
      "2016-03-01\n",
      " 2015-03-25\n",
      "2015-06-01\n",
      " 2016-02-21\n",
      "2016-02-01\n",
      " 2014-03-20\n",
      "2014-03-01\n",
      " 2010-12-10\n",
      "2010-12-01\n",
      " 2011-10-01\n",
      "2011-11-01\n",
      " 2013-06-29\n",
      "2013-08-01\n",
      " 2014-12-23\n",
      "2015-01-01\n",
      " 2017-11-28\n",
      "2018-05-01\n",
      " 2012-03-01\n",
      "2012-03-01\n",
      " 2019-09-06\n",
      "2019-09-01\n",
      " 2016-08-20\n",
      "2016-08-01\n",
      " 2015-01-15\n",
      "2015-03-01\n",
      " 2009-10-28\n",
      "2009-11-01\n",
      " 2018-11-06\n",
      "2019-02-01\n",
      " 2012-03-02\n",
      "2012-03-01\n",
      " 2012-10-01\n",
      "2012-10-01\n",
      " 2015-04-04\n",
      "2015-08-01\n",
      " 2011-02-18\n",
      "2011-04-01\n",
      " 2019-01-16\n",
      "2019-03-01\n",
      " 2013-10-01\n",
      "2013-10-01\n",
      " 2017-10-16\n",
      "2017-11-01\n",
      " 2019-04-18\n",
      "2019-05-01\n",
      " 2014-09-14\n",
      "2014-12-01\n",
      " 2019-08-13\n",
      "2019-10-01\n",
      " 2014-03-01\n",
      "2014-03-01\n",
      " 2016-05-10\n",
      "2016-05-01\n",
      " 2007-10-01\n",
      "2007-12-01\n",
      " 2017-10-20\n",
      "2017-10-01\n",
      " 2019-04-18\n",
      "2017-12-01\n",
      " 2019-10-21\n",
      "2020-02-01\n",
      " 2015-02-01\n",
      "2015-02-01\n",
      " 2015-04-10\n",
      "2015-04-01\n",
      " 2019-09-16\n",
      "2019-11-01\n"
     ]
    }
   ],
   "source": [
    "for i, md in enumerate(files):\n",
    "    \n",
    "    \n",
    "    date = pub_dates[i]\n",
    "    \n",
    "    yr,mn,day = date.split('-')\n",
    "    \n",
    "    if day =='00':\n",
    "        day = '01'\n",
    "    \n",
    "    date = '%s-%s-%s' %(yr,mn,day)\n",
    "    \n",
    "    new_name = '%s-%s.md' % (date, ids[i])\n",
    "    \n",
    "    \n",
    "    with open(md,'r') as f:\n",
    "        ll = f.readlines()\n",
    "        \n",
    "    info =ll[1:]\n",
    "    \n",
    "    jj= 0\n",
    "    for x in info:\n",
    "        if x == breaklines:\n",
    "            break\n",
    "        jj+=1\n",
    "    info = info[:jj]\n",
    "    \n",
    "    \n",
    "    for k, ele in enumerate(info):\n",
    "    \n",
    "        x = ele.strip()\n",
    "        tag, data = x.split(':')\n",
    "\n",
    "        if tag == 'date':\n",
    "            kk = k\n",
    "            print(data)\n",
    "            print(date)\n",
    "    \n",
    "    info[kk] = 'date: %s\\n' % date\n",
    "    \n",
    "    for k, ele in enumerate(info):\n",
    "    \n",
    "        x = ele.strip()\n",
    "        tag, data = x.split(':')\n",
    "\n",
    "        if tag == 'layout':\n",
    "            kk=k\n",
    "            \n",
    "    info[kk] = 'layout: single\\n'\n",
    "    try:\n",
    "        info.append('cite-count: %d\\n' % citation_count[i]) \n",
    "    except:\n",
    "        info.append('cite-count: %d\\n' % 0) \n",
    "    \n",
    "    \n",
    "    info.append(breaklines)\n",
    "    \n",
    "    info.append('\\n\\n')\n",
    "    \n",
    "    info.append('##Abstract\\n')\n",
    "    #info.append('#' abstracts[i])\n",
    "    \n",
    "    \n",
    "    with open('/Users/jburgess/coding/grburgess.github.io/_posts/science/%s'%new_name, 'w') as f:\n",
    "        f.write(breaklines)\n",
    "        for ii in info:\n",
    "            f.write(ii)\n",
    "\n",
    "            \n",
    "\n"
   ]
  },
  {
   "cell_type": "code",
   "execution_count": 6,
   "metadata": {
    "ExecuteTime": {
     "end_time": "2019-10-14T15:10:04.046511Z",
     "start_time": "2019-10-14T15:10:04.038758Z"
    }
   },
   "outputs": [],
   "source": [
    "aa = search[-1]"
   ]
  },
  {
   "cell_type": "code",
   "execution_count": 8,
   "metadata": {
    "ExecuteTime": {
     "end_time": "2019-10-14T15:11:15.677570Z",
     "start_time": "2019-10-14T15:11:15.668358Z"
    }
   },
   "outputs": [
    {
     "data": {
      "text/plain": [
       "'2019'"
      ]
     },
     "execution_count": 8,
     "metadata": {},
     "output_type": "execute_result"
    }
   ],
   "source": [
    "aa.year"
   ]
  },
  {
   "cell_type": "code",
   "execution_count": 13,
   "metadata": {
    "ExecuteTime": {
     "end_time": "2019-10-08T10:09:24.885216Z",
     "start_time": "2019-10-08T10:09:24.880907Z"
    }
   },
   "outputs": [
    {
     "data": {
      "text/plain": [
       "'Gamma-ray burst (GRB) 130427A is one of the most energetic GRBs ever observed. The initial pulse up to 2.5 seconds is possibly the brightest well-isolated pulse observed to date. A fine time resolution spectral analysis shows power-law decays of the peak energy from the onset of the pulse, consistent with models of internal synchrotron shock pulses. However, a strongly correlated power-law behavior is observed between the luminosity and the spectral peak energy that is inconsistent with curvature effects arising in the relativistic outflow. It is difficult for any of the existing models to account for all of the observed spectral and temporal behaviors simultaneously.'"
      ]
     },
     "execution_count": 13,
     "metadata": {},
     "output_type": "execute_result"
    }
   ],
   "source": [
    "abstracts[0]"
   ]
  },
  {
   "cell_type": "code",
   "execution_count": 45,
   "metadata": {
    "ExecuteTime": {
     "end_time": "2019-10-08T06:51:59.080698Z",
     "start_time": "2019-10-08T06:51:59.077531Z"
    }
   },
   "outputs": [],
   "source": [
    "for ele in info:\n",
    "    \n",
    "    x = ele.strip()\n",
    "    tag, data = x.split(':')\n",
    "    \n",
    "    if tag == 'ref-doi':\n",
    "        \n",
    "        dois.append(data)\n",
    "    \n",
    "    "
   ]
  },
  {
   "cell_type": "code",
   "execution_count": 46,
   "metadata": {
    "ExecuteTime": {
     "end_time": "2019-10-08T06:52:03.099691Z",
     "start_time": "2019-10-08T06:52:03.096123Z"
    }
   },
   "outputs": [
    {
     "data": {
      "text/plain": [
       "[' 10.1126/science.1242302']"
      ]
     },
     "execution_count": 46,
     "metadata": {},
     "output_type": "execute_result"
    }
   ],
   "source": [
    "dois"
   ]
  },
  {
   "cell_type": "code",
   "execution_count": null,
   "metadata": {},
   "outputs": [],
   "source": []
  },
  {
   "cell_type": "code",
   "execution_count": 66,
   "metadata": {
    "ExecuteTime": {
     "end_time": "2019-10-08T07:07:07.632657Z",
     "start_time": "2019-10-08T07:07:07.628796Z"
    }
   },
   "outputs": [
    {
     "data": {
      "text/plain": [
       "['1993ApJ...413..281B',\n",
       " '1988ApJ...333..646E',\n",
       " '2011ApJ...726...90Z',\n",
       " '2009ApJ...702..791M',\n",
       " '2014NatPh..10..351U',\n",
       " '1996ApJ...459..393N',\n",
       " '2006ApJS..166..298K',\n",
       " '2014Sci...343...42A',\n",
       " '1998MNRAS.296..275D',\n",
       " '2003astro.ph.12347L',\n",
       " '1995ApJ...439..307F',\n",
       " '2014Sci...343...48M',\n",
       " '2011ApJ...727L..33G',\n",
       " '2007ApJ...664L...1P',\n",
       " '2013ApJ...770...32G',\n",
       " '2012ApJS..199...18P',\n",
       " '2012ApJ...757L..31A',\n",
       " '2004ApJ...614..827R',\n",
       " '2014ApJ...784...17B',\n",
       " '2004ApJ...614..284D',\n",
       " '2012ApJ...745..144A',\n",
       " '2011ApJ...741...24B',\n",
       " '2013MNRAS.433.2739I',\n",
       " '2010ApJ...720.1146L',\n",
       " '2009MNRAS.399.1328G',\n",
       " '2013GCN.14473....1V',\n",
       " '2013GCN.14455....1L',\n",
       " '2010arXiv1002.2617P',\n",
       " '2013GCN.14487....1G',\n",
       " '2013GCN.14471....1Z',\n",
       " '2013GCN.14448....1M',\n",
       " '2013GCN.14494....1P',\n",
       " '2013arXiv1311.5674Z']"
      ]
     },
     "execution_count": 66,
     "metadata": {},
     "output_type": "execute_result"
    }
   ],
   "source": [
    "s.reference"
   ]
  },
  {
   "cell_type": "code",
   "execution_count": 16,
   "metadata": {
    "ExecuteTime": {
     "end_time": "2019-10-07T15:14:52.971369Z",
     "start_time": "2019-10-07T15:14:52.967449Z"
    }
   },
   "outputs": [
    {
     "data": {
      "text/plain": [
       "'Query has not been executed'"
      ]
     },
     "execution_count": 16,
     "metadata": {},
     "output_type": "execute_result"
    }
   ],
   "source": [
    "search.progress"
   ]
  },
  {
   "cell_type": "code",
   "execution_count": 59,
   "metadata": {
    "ExecuteTime": {
     "end_time": "2019-10-08T07:02:54.621567Z",
     "start_time": "2019-10-08T07:02:54.618517Z"
    }
   },
   "outputs": [
    {
     "name": "stdout",
     "output_type": "stream",
     "text": [
      "51\n"
     ]
    }
   ],
   "source": [
    "for s in search:\n",
    "    \n",
    "    print(s.citation_count)"
   ]
  },
  {
   "cell_type": "code",
   "execution_count": 23,
   "metadata": {
    "ExecuteTime": {
     "end_time": "2019-10-07T15:54:55.649125Z",
     "start_time": "2019-10-07T15:54:55.645734Z"
    }
   },
   "outputs": [
    {
     "data": {
      "text/plain": [
       "0"
      ]
     },
     "execution_count": 23,
     "metadata": {},
     "output_type": "execute_result"
    }
   ],
   "source": [
    "s.citation_count"
   ]
  },
  {
   "cell_type": "code",
   "execution_count": 32,
   "metadata": {
    "ExecuteTime": {
     "end_time": "2019-10-07T15:56:51.313720Z",
     "start_time": "2019-10-07T15:56:51.309743Z"
    }
   },
   "outputs": [
    {
     "data": {
      "text/plain": [
       "['Burgess, J. M.', 'Vianello, G.']"
      ]
     },
     "execution_count": 32,
     "metadata": {},
     "output_type": "execute_result"
    }
   ],
   "source": [
    "s."
   ]
  },
  {
   "cell_type": "code",
   "execution_count": 7,
   "metadata": {
    "ExecuteTime": {
     "end_time": "2019-10-16T06:15:36.879659Z",
     "start_time": "2019-10-16T06:15:36.331235Z"
    }
   },
   "outputs": [],
   "source": [
    "xxx = list(ads.SearchQuery(doi='10.1093/mnras/stz2589'))"
   ]
  },
  {
   "cell_type": "code",
   "execution_count": 8,
   "metadata": {
    "ExecuteTime": {
     "end_time": "2019-10-16T06:15:37.420736Z",
     "start_time": "2019-10-16T06:15:37.417953Z"
    }
   },
   "outputs": [],
   "source": [
    "x =xxx[0]"
   ]
  },
  {
   "cell_type": "code",
   "execution_count": 9,
   "metadata": {
    "ExecuteTime": {
     "end_time": "2019-10-16T06:15:45.535165Z",
     "start_time": "2019-10-16T06:15:45.524599Z"
    }
   },
   "outputs": [
    {
     "data": {
      "text/plain": [
       "['A Bayesian Fermi-GBM short GRB spectral catalogue']"
      ]
     },
     "execution_count": 9,
     "metadata": {},
     "output_type": "execute_result"
    }
   ],
   "source": [
    "x.title"
   ]
  },
  {
   "cell_type": "code",
   "execution_count": 10,
   "metadata": {
    "ExecuteTime": {
     "end_time": "2019-10-16T06:15:51.549208Z",
     "start_time": "2019-10-16T06:15:51.545400Z"
    }
   },
   "outputs": [
    {
     "data": {
      "text/plain": [
       "'2019-11-00'"
      ]
     },
     "execution_count": 10,
     "metadata": {},
     "output_type": "execute_result"
    }
   ],
   "source": [
    "x.pubdate"
   ]
  },
  {
   "cell_type": "code",
   "execution_count": null,
   "metadata": {},
   "outputs": [],
   "source": []
  }
 ],
 "metadata": {
  "kernelspec": {
   "display_name": "Python 3",
   "language": "python",
   "name": "python3"
  },
  "language_info": {
   "codemirror_mode": {
    "name": "ipython",
    "version": 3
   },
   "file_extension": ".py",
   "mimetype": "text/x-python",
   "name": "python",
   "nbconvert_exporter": "python",
   "pygments_lexer": "ipython3",
   "version": "3.8.5"
  }
 },
 "nbformat": 4,
 "nbformat_minor": 2
}
